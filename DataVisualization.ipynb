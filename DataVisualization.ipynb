{
 "cells": [
  {
   "cell_type": "markdown",
   "metadata": {},
   "source": [
    "# MiiSky Technovation Pvt. Ltd."
   ]
  },
  {
   "cell_type": "markdown",
   "metadata": {},
   "source": [
    "## Realtime Data Visualization"
   ]
  },
  {
   "cell_type": "markdown",
   "metadata": {},
   "source": [
    "Reading from database & visualization"
   ]
  },
  {
   "cell_type": "code",
   "execution_count": 33,
   "metadata": {},
   "outputs": [],
   "source": [
    "#Coded By: Vishal Aditya | Embedded Software Engineer | Miisky Technovation Pvt. Ltd.\t\n",
    "\n",
    "import MySQLdb\n",
    "import plotly.plotly as py\n",
    "import numpy as np\n",
    "from plotly.graph_objs import *"
   ]
  },
  {
   "cell_type": "code",
   "execution_count": 50,
   "metadata": {},
   "outputs": [],
   "source": [
    "# Open database connection\n",
    "db = MySQLdb.connect(\"45.127.102.254\",\"miiskyroot\",\"miisky@123\",\"miisky123\" )\n",
    "# prepare a cursor object using cursor() method\n",
    "cursor = db.cursor()\n",
    "sql = \"SELECT * FROM svasth_connect where current_dat='2018-01-24'\"\n",
    "count = 0"
   ]
  },
  {
   "cell_type": "code",
   "execution_count": 62,
   "metadata": {},
   "outputs": [],
   "source": [
    "# Execute the SQL command\n",
    "cursor.execute(sql)\n",
    "# Fetch all the rows in a list of lists.\n",
    "results = cursor.fetchall()\n",
    "name = []\n",
    "diabetes = []\n",
    "diabetes_inv = []\n",
    "current_dat = []\n",
    "current_tim = []\n",
    "adc = []"
   ]
  },
  {
   "cell_type": "code",
   "execution_count": 63,
   "metadata": {},
   "outputs": [],
   "source": [
    "for row in results:\n",
    "    name.append(row[18])\n",
    "    diabetes.append(row[5])\n",
    "    diabetes_inv.append(row[6])\n",
    "    current_dat.append(row[53])\n",
    "    current_tim.append(row[54])\n",
    "    adc.append(row[48])"
   ]
  },
  {
   "cell_type": "code",
   "execution_count": 67,
   "metadata": {},
   "outputs": [
    {
     "name": "stdout",
     "output_type": "stream",
     "text": [
      "1868,1869,1868,1866,1868,1867,1863,1867,1867,1865,1865,1865,1865,1866,1868,1866,1865,1866,1865,1865,1865,1865,1865,1865,1864,1865,1864,1864,1865,1864,1863,1863,1863,1863,1863,1862,1863,1863,1863,1862,1862,1862,1861,1862,1861,1861,1861,1860,1862,1861,1862,1861,1861,1860,1860,1861,1860,1860,1861,1860,1859,1859,1859,1859,1859,1860,1859,1860,1859,1859,1859,1858,1857,1859,1858,1859,1858,1858,1857,1856,307,\n"
     ]
    }
   ],
   "source": [
    "print adc[1000]"
   ]
  },
  {
   "cell_type": "code",
   "execution_count": null,
   "metadata": {},
   "outputs": [],
   "source": [
    "\n",
    "\n",
    "# disconnect from server\n",
    "db.close()"
   ]
  },
  {
   "cell_type": "code",
   "execution_count": null,
   "metadata": {},
   "outputs": [],
   "source": [
    "'''x = np.array(X[:, 1].A1)\n",
    "f = model.predict(X).flatten()\n",
    "\n",
    "fig, ax = plt.subplots(figsize=(12,8))\n",
    "ax.plot(x, f, 'r', label='Prediction')\n",
    "ax.scatter(data.Population, data.Profit, label='Traning Data')\n",
    "ax.legend(loc=2)\n",
    "ax.set_xlabel('Population')\n",
    "ax.set_ylabel('Profit')\n",
    "ax.set_title('Predicted Profit vs. Population Size')'''"
   ]
  },
  {
   "cell_type": "markdown",
   "metadata": {},
   "source": [
    "That's it!  Thanks for reading."
   ]
  }
 ],
 "metadata": {
  "kernelspec": {
   "display_name": "Python 2",
   "language": "python",
   "name": "python2"
  },
  "language_info": {
   "codemirror_mode": {
    "name": "ipython",
    "version": 2
   },
   "file_extension": ".py",
   "mimetype": "text/x-python",
   "name": "python",
   "nbconvert_exporter": "python",
   "pygments_lexer": "ipython2",
   "version": "2.7.12"
  }
 },
 "nbformat": 4,
 "nbformat_minor": 1
}
